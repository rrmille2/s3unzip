{
 "cells": [
  {
   "cell_type": "markdown",
   "metadata": {},
   "source": [
    "code to read a zipfile from S3 into memory  \n",
    "and then extract the zipfile from memory into a designated s3 bucket/prefix location\n"
   ]
  },
  {
   "cell_type": "code",
   "execution_count": 1,
   "metadata": {},
   "outputs": [],
   "source": [
    "import boto3\n",
    "import zipfile\n",
    "import io"
   ]
  },
  {
   "cell_type": "code",
   "execution_count": 30,
   "metadata": {},
   "outputs": [],
   "source": [
    "src_bucket = 'am-drones'\n",
    "src_filename = 'images/blue-boxes-images.zip'\n",
    "dst_bucket = 'situ-aware-poc'\n",
    "dst_prefix = 'proxy_footage/ashley/images'"
   ]
  },
  {
   "cell_type": "code",
   "execution_count": 8,
   "metadata": {},
   "outputs": [
    {
     "name": "stdout",
     "output_type": "stream",
     "text": [
      "reading zip file\n",
      "done\n"
     ]
    }
   ],
   "source": [
    "print('reading zip file')\n",
    "s3_resource = boto3.resource('s3')\n",
    "zip_obj = s3_resource.Object(bucket_name=src_bucket, key=src_filename)\n",
    "buffer = io.BytesIO(zip_obj.get()[\"Body\"].read())\n",
    "print('done')"
   ]
  },
  {
   "cell_type": "code",
   "execution_count": 9,
   "metadata": {},
   "outputs": [],
   "source": [
    "z = zipfile.ZipFile(buffer)"
   ]
  },
  {
   "cell_type": "code",
   "execution_count": 17,
   "metadata": {},
   "outputs": [],
   "source": [
    "numfiles = len(z.namelist())"
   ]
  },
  {
   "cell_type": "code",
   "execution_count": 31,
   "metadata": {},
   "outputs": [
    {
     "name": "stdout",
     "output_type": "stream",
     "text": [
      "uploading file 54 of 54               \r"
     ]
    }
   ],
   "source": [
    "for count, filename in enumerate(z.namelist()):\n",
    "    file_info = z.getinfo(filename)\n",
    "    print(f'uploading file {count+1} of {numfiles}               \\r', end='')\n",
    "    s3_resource.meta.client.upload_fileobj(\n",
    "        z.open(filename),\n",
    "        Bucket=dst_bucket,\n",
    "        Key=f'{dst_prefix}/{filename}'\n",
    "    )"
   ]
  },
  {
   "cell_type": "code",
   "execution_count": 23,
   "metadata": {},
   "outputs": [
    {
     "name": "stdout",
     "output_type": "stream",
     "text": [
      "2022-02-21 14:14:41    7621576 20220202_124432.jpg\n",
      "2022-02-21 14:14:43    7883821 20220202_124439.jpg\n",
      "2022-02-21 14:14:40    6858989 20220202_124444.jpg\n",
      "2022-02-21 14:14:39    6910969 20220202_124501.jpg\n",
      "2022-02-21 14:14:38    6427781 20220202_124516.jpg\n",
      "2022-02-21 14:14:41    7591161 20220202_124542.jpg\n",
      "2022-02-21 14:14:41    6926285 20220202_124545.jpg\n",
      "2022-02-21 14:14:39    7986427 20220202_124552.jpg\n",
      "2022-02-21 14:14:42    6899027 20220202_124601.jpg\n",
      "2022-02-21 14:14:43    6362683 20220202_124608.jpg\n",
      "2022-02-21 14:14:36    6068685 20220202_124737.jpg\n",
      "2022-02-21 14:14:37    5108694 20220202_124742.jpg\n",
      "2022-02-21 14:14:38    5413251 20220202_124745.jpg\n",
      "2022-02-21 14:14:37    6554078 20220202_124750.jpg\n",
      "2022-02-21 14:14:34    5825791 20220202_124806.jpg\n",
      "2022-02-21 14:14:36    5913938 20220202_124809.jpg\n",
      "2022-02-21 14:14:37    5329855 20220202_124817.jpg\n",
      "2022-02-21 14:14:40    6207204 20220202_124826.jpg\n",
      "2022-02-21 14:14:40    6907000 20220202_135008.jpg\n",
      "2022-02-21 14:14:43    7209961 20220202_135017.jpg\n",
      "2022-02-21 14:14:40    6574578 20220202_135025.jpg\n",
      "2022-02-21 14:14:42    7325808 20220202_135058.jpg\n",
      "2022-02-21 14:14:39    6956865 20220202_135133.jpg\n",
      "2022-02-21 14:14:41    6374478 20220202_135159.jpg\n",
      "2022-02-21 14:14:42    5682252 20220202_135209.jpg\n",
      "2022-02-21 14:14:34    3600028 20220202_135212.jpg\n",
      "2022-02-21 14:14:38    6284072 20220202_135224.jpg\n",
      "2022-02-21 14:14:40    6099987 20220202_135227.jpg\n",
      "2022-02-21 14:14:35    5446792 20220202_135433.jpg\n",
      "2022-02-21 14:14:39    6307426 20220202_135439.jpg\n",
      "2022-02-21 14:14:34    4659201 20220202_135549.jpg\n",
      "2022-02-21 14:14:36    5407573 20220202_135837.jpg\n",
      "2022-02-21 14:14:35    6766506 20220202_135920.jpg\n",
      "2022-02-21 14:14:38    5437453 20220202_140005.jpg\n",
      "2022-02-21 14:14:36    6221229 20220202_140009.jpg\n",
      "2022-02-21 14:14:33    3944527 20220202_140014.jpg\n",
      "2022-02-21 14:14:42    4694291 20220202_140112.jpg\n",
      "2022-02-21 14:14:39    6343795 20220202_140115.jpg\n",
      "2022-02-21 14:14:37    5412762 20220202_140119.jpg\n",
      "2022-02-21 14:14:36    4818313 20220202_140140.jpg\n",
      "2022-02-21 14:14:38    5984911 20220202_140144.jpg\n",
      "2022-02-21 14:14:34    4260674 20220202_140148.jpg\n",
      "2022-02-21 14:14:33    3567617 20220202_140245.jpg\n",
      "2022-02-21 14:14:41    6960648 20220202_140253.jpg\n",
      "2022-02-21 14:14:35    5042980 20220202_140259.jpg\n",
      "2022-02-21 14:14:38    5227050 20220202_140321.jpg\n",
      "2022-02-21 14:14:40    6073287 20220202_140328.jpg\n",
      "2022-02-21 14:14:34    3974395 20220202_140337.jpg\n",
      "2022-02-21 14:14:37    5325457 20220202_140619.jpg\n",
      "2022-02-21 14:14:43    6179864 20220202_140625.jpg\n",
      "2022-02-21 14:14:34    3815169 20220202_140628.jpg\n",
      "2022-02-21 14:14:42    4596369 20220202_140650.jpg\n",
      "2022-02-21 14:14:42    6869212 20220202_140654.jpg\n",
      "2022-02-21 14:14:37    4878909 20220202_140659.jpg\n"
     ]
    }
   ],
   "source": [
    "!aws s3 ls s3://$dst_bucket/$dst_prefix/"
   ]
  },
  {
   "cell_type": "code",
   "execution_count": null,
   "metadata": {},
   "outputs": [],
   "source": []
  }
 ],
 "metadata": {
  "instance_type": "ml.t3.medium",
  "kernelspec": {
   "display_name": "Python 3 (Data Science)",
   "language": "python",
   "name": "python3__SAGEMAKER_INTERNAL__arn:aws:sagemaker:us-east-1:081325390199:image/datascience-1.0"
  },
  "language_info": {
   "codemirror_mode": {
    "name": "ipython",
    "version": 3
   },
   "file_extension": ".py",
   "mimetype": "text/x-python",
   "name": "python",
   "nbconvert_exporter": "python",
   "pygments_lexer": "ipython3",
   "version": "3.7.10"
  }
 },
 "nbformat": 4,
 "nbformat_minor": 4
}
